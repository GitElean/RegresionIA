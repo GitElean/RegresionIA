{
  "cells": [
    {
      "cell_type": "markdown",
      "metadata": {},
      "source": [
        "Importando las librerias para poder trabajar"
      ]
    },
    {
      "cell_type": "code",
      "execution_count": null,
      "metadata": {},
      "outputs": [],
      "source": [
        "import numpy as np\n",
        "import matplotlib.pyplot as plt\n",
        "import csv"
      ]
    },
    {
      "cell_type": "markdown",
      "metadata": {},
      "source": [
        "1.1 Empezamos importando la data del CSV e insertalo en un Numpy array."
      ]
    },
    {
      "cell_type": "code",
      "execution_count": null,
      "metadata": {
        "trusted": true
      },
      "outputs": [],
      "source": [
        "headers = [\"id\", \"date\", \"price\", \"bedrooms\", \"bathrooms\", \"sqft_living\", \"sqft_lot\", \"floors\", \"waterfront\", \"view\", \"condition\", \"grade\", \"sqft_above\", \"sqft_basement\", \"yr_built\", \"yr_renovated\", \"zipcode\", \"lat\", \"long\", \"sqft_living15\", \"sqft_lot15\"]\n",
        "data = np.genfromtxt('./data/kc_house_data.csv', delimiter=',', skip_header=1)\n",
        "\n",
        "    # Extraer la columna sqft_living y price para realizar la regresión lineal\n",
        "X = data[:, 5].reshape(-1, 1)\n",
        "y = data[:, 2].reshape(-1, 1)"
      ]
    },
    {
      "attachments": {},
      "cell_type": "markdown",
      "metadata": {},
      "source": [
        "1.2 Ajustamos el modelo"
      ]
    },
    {
      "cell_type": "code",
      "execution_count": null,
      "metadata": {},
      "outputs": [],
      "source": [
        "max_degree = 15\n",
        "\n",
        "\n",
        "X_poly = np.ones((X.shape[0], 1))\n",
        "for degree in range(1, max_degree+1):\n",
        "    X_poly = np.concatenate((X_poly, np.power(X, degree)), axis=1)\n",
        "\n",
        "    # ajuste del modelo\n",
        "theta = np.linalg.inv(X_poly.T.dot(X_poly)).dot(X_poly.T).dot(y)"
      ]
    },
    {
      "attachments": {},
      "cell_type": "markdown",
      "metadata": {},
      "source": [
        "1.3"
      ]
    },
    {
      "cell_type": "code",
      "execution_count": null,
      "metadata": {},
      "outputs": [],
      "source": [
        "alpha = 0.0000001\n",
        "max_iters = 15000\n",
        "\n",
        "    \n",
        "theta_gd = np.random.rand(X_poly.shape[1], 1)\n",
        "\n",
        "    \n",
        "for i in range(max_iters):\n",
        "    h = X_poly.dot(theta_gd)\n",
        "    error = h - y\n",
        "    gradient = X_poly.T.dot(error)\n",
        "    theta_gd = theta_gd - alpha * gradient"
      ]
    },
    {
      "attachments": {},
      "cell_type": "markdown",
      "metadata": {},
      "source": [
        "1.4"
      ]
    },
    {
      "cell_type": "code",
      "execution_count": null,
      "metadata": {},
      "outputs": [],
      "source": [
        "degrees = range(1, 20)\n",
        "mse_scores = []\n",
        "\n",
        "for degree in degrees:\n",
        "        \n",
        "    X_poly_cv = np.ones((X.shape[0], 1))\n",
        "    for i in range(1, degree+1):\n",
        "            X_poly_cv = np.concatenate((X_poly_cv, np.power(X, i)), axis=1)\n",
        "\n",
        "        # MSE\n",
        "    mse = 0\n",
        "    for j in range(5):\n",
        "        X_train, X_test, y_train, y_test = train_test_split(X_poly_cv, y, test_size=0.2)\n",
        "        theta_cv = np.linalg.inv(X_train.T.dot(X_train)).dot(X_train.T).dot(y_train)\n",
        "        h_cv = X_test.dot(theta_cv)\n",
        "        mse += np.mean((h_cv - y_test)**2)\n",
        "    mse_scores.append(mse/5)\n",
        "\n",
        "best_degree = degrees[np.argmin(mse_scores)]"
      ]
    },
    {
      "attachments": {},
      "cell_type": "markdown",
      "metadata": {},
      "source": [
        "1.5"
      ]
    },
    {
      "cell_type": "code",
      "execution_count": null,
      "metadata": {},
      "outputs": [],
      "source": [
        "plt.plot(degrees, mse_scores)\n",
        "plt.xlabel('Grado del polinomio')\n",
        "plt.ylabel('MSE')\n",
        "plt.title('Curva de validación cruzada')\n",
        "plt.show()"
      ]
    }
  ],
  "metadata": {
    "kernelspec": {
      "display_name": "Python (Pyodide)",
      "language": "python",
      "name": "python"
    },
    "language_info": {
      "codemirror_mode": {
        "name": "python",
        "version": 3
      },
      "file_extension": ".py",
      "mimetype": "text/x-python",
      "name": "python",
      "nbconvert_exporter": "python",
      "pygments_lexer": "ipython3",
      "version": "3.8"
    }
  },
  "nbformat": 4,
  "nbformat_minor": 4
}
